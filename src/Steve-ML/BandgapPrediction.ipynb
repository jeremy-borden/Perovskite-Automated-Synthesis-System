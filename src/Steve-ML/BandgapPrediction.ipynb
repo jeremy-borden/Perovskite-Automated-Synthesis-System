{
  "nbformat": 4,
  "nbformat_minor": 0,
  "metadata": {
    "colab": {
      "provenance": []
    },
    "kernelspec": {
      "name": "python3",
      "display_name": "Python 3"
    },
    "language_info": {
      "name": "python"
    }
  },
  "cells": [
    {
      "cell_type": "markdown",
      "source": [
        "# **1. Importing Libraries**"
      ],
      "metadata": {
        "id": "0irzGVfwe3s3"
      }
    },
    {
      "cell_type": "code",
      "source": [
        "import pandas as pd\n",
        "import numpy as np\n",
        "import matplotlib.pyplot as plt\n",
        "import seaborn as sns\n",
        "from sklearn.model_selection import train_test_split\n",
        "from sklearn.linear_model import LinearRegression\n",
        "from sklearn.metrics import mean_absolute_error, r2_score\n",
        "from google.colab import files"
      ],
      "metadata": {
        "id": "y97W9ssZdTj4"
      },
      "execution_count": null,
      "outputs": []
    },
    {
      "cell_type": "markdown",
      "source": [
        "# **2. Uploading and Loading Data**"
      ],
      "metadata": {
        "id": "YnZFYlN8fdIv"
      }
    },
    {
      "cell_type": "code",
      "source": [
        "# Upload Excel file\n",
        "uploaded = files.upload()\n",
        "\n",
        "# Get filename\n",
        "data_file = list(uploaded.keys())[0]\n",
        "\n",
        "# Load the Excel file into a DataFrame\n",
        "data = pd.read_excel(data_file)"
      ],
      "metadata": {
        "id": "YapQZ7S3fcrL"
      },
      "execution_count": null,
      "outputs": []
    },
    {
      "cell_type": "markdown",
      "source": [
        "# **3. Function For Data Cleaning**\n",
        "viz., Data Cleaning, Converting Data Types, Cleaning Specific Columns"
      ],
      "metadata": {
        "id": "bgDwZ-isfnaH"
      }
    },
    {
      "cell_type": "code",
      "source": [
        "# Set future behavior option\n",
        "pd.set_option('future.no_silent_downcasting', True)\n",
        "\n",
        "# Function to clean intensity values\n",
        "def clean_intensity(value):\n",
        "    if isinstance(value, str):\n",
        "        if value == 'not in range':\n",
        "            return np.nan\n",
        "        elif '<' in value:\n",
        "            try:\n",
        "                return float(value.replace('<', '').strip())\n",
        "            except ValueError:\n",
        "                return np.nan\n",
        "    return value\n",
        "\n",
        "# Replace non-numeric entries with NaN\n",
        "data.replace(['-', '#VALUE!', '<3200', 'not in range'], np.nan, inplace=True)\n",
        "\n",
        "# Drop rows with NaN values\n",
        "data.dropna(inplace=True)\n",
        "\n",
        "# Convert relevant columns to numeric\n",
        "data['PL intensity'] = pd.to_numeric(data['PL intensity'], errors='coerce')\n",
        "data['Plwave'] = pd.to_numeric(data['Plwave'], errors='coerce')\n",
        "\n",
        "# Clean the 'PL intensity' column\n",
        "data['PL intensity'] = data['PL intensity'].apply(clean_intensity)\n",
        "\n",
        "# Replace NaN with the median of 'PL intensity'\n",
        "median_intensity = data['PL intensity'].median()\n",
        "data['PL intensity'] = data['PL intensity'].fillna(median_intensity)\n",
        "\n",
        "# Drop any remaining NaN values after conversion\n",
        "data.dropna(inplace=True)\n"
      ],
      "metadata": {
        "id": "wGpNqv8MdiSO"
      },
      "execution_count": null,
      "outputs": []
    },
    {
      "cell_type": "markdown",
      "source": [
        "# **Feature Selection and Splitting Data**"
      ],
      "metadata": {
        "id": "yhmrpCfMhSQv"
      }
    },
    {
      "cell_type": "code",
      "source": [
        "\n",
        "# Define features and target variable\n",
        "X = data[['PL intensity', 'Plwave']]  # Input features\n",
        "y = data['Bandgap']                    # Target variable\n",
        "\n",
        "# Split the data into training and testing sets\n",
        "X_train, X_test, y_train, y_test = train_test_split(X, y, test_size=0.2, random_state=42)"
      ],
      "metadata": {
        "id": "LUQ-oxprdrU9"
      },
      "execution_count": null,
      "outputs": []
    },
    {
      "cell_type": "markdown",
      "source": [
        "## **1. PL Intensity and Bandgap Relationship:**\n",
        "The photoluminescence (PL) intensity provides insight into the material's quality and purity. Higher PL intensity generally suggests that the material has fewer impurities and defects. This is because high PL intensity indicates minimal non-radiative recombination centers, which are often caused by defects or impurities. In a high-quality perovskite material, the PL intensity will be strong and stable, meaning the material can maintain its bandgap without significant energy loss.\n",
        "\n",
        "*Dependency*: By maximizing PL intensity, you can infer a stable and efficient bandgap, which is especially important for applications like solar cells. Higher intensity often correlates with a cleaner synthesis process and fewer defects in the perovskite ink, meaning the material can more efficiently convert light into electricity without performance degradation.\n",
        "\n",
        "\n",
        "\n",
        "## **2. PL Wavelength and Bandgap Relationship:**\n",
        "\n",
        " PL wavelength (or peak position) is often directly associated with the bandgap energy of the material. Shorter wavelengths correspond to higher bandgap energies, while longer wavelengths indicate a smaller bandgap.\n",
        "\n",
        "*Dependency:*        For applications requiring a specific bandgap (e.g., ~1.5 eV for solar cells), you can target formulations that produce PL wavelengths correlating to that energy level. This lets you fine-tune the bandgap by altering the chemical composition (e.g., halide or cation variations) to yield the optimal wavelength and corresponding bandgap."
      ],
      "metadata": {
        "id": "ZYYoQDnsx_hi"
      }
    },
    {
      "cell_type": "markdown",
      "source": [
        "# **Model Training and Making Predictions**"
      ],
      "metadata": {
        "id": "JtRQhaPPhnJi"
      }
    },
    {
      "cell_type": "code",
      "source": [
        "# Initialize the Linear Regression model\n",
        "model = LinearRegression()\n",
        "\n",
        "# Train the model using the training data\n",
        "model.fit(X_train, y_train)\n",
        "\n",
        "# Make predictions on the test set\n",
        "y_pred = model.predict(X_test)"
      ],
      "metadata": {
        "id": "K97HPM1whi14"
      },
      "execution_count": null,
      "outputs": []
    },
    {
      "cell_type": "markdown",
      "source": [
        "# **Model Evaluation and Model Coefficients**"
      ],
      "metadata": {
        "id": "6klxslKth5iA"
      }
    },
    {
      "cell_type": "code",
      "source": [
        "# Evaluate model performance\n",
        "mae = mean_absolute_error(y_test, y_pred)  # Calculate Mean Absolute Error\n",
        "r2 = r2_score(y_test, y_pred)                # Calculate R² Score\n",
        "\n",
        "# Print evaluation metrics\n",
        "print(f'Mean Absolute Error (MAE): {mae}')\n",
        "print(f'R² Score: {r2}')\n",
        "\n",
        "# Display model coefficients to understand the relationship between features and target variable\n",
        "coefficients = pd.DataFrame({'Feature': X.columns, 'Coefficient': model.coef_})\n",
        "print('\\nModel Coefficients:')\n",
        "print(coefficients)"
      ],
      "metadata": {
        "id": "rplrmQnShyfb"
      },
      "execution_count": null,
      "outputs": []
    },
    {
      "cell_type": "markdown",
      "source": [
        "High PL intensity: typically has fewer non-radiative recombination centers, meaning it can maintain an ideal bandgap without significant losses.\n",
        "\n",
        "PL intensity acts as a quality check, confirming that the ink has minimal impurities, which indirectly supports the stability and efficiency of the desired bandgap.\n",
        "\n",
        "## **A strong, positive relationship between PL intensity and bandgap means stable and efficient bandgap.**\n",
        "\n",
        "PL Wavelength is typically inversely related to the bandgap energy. Shorter wavelengths indicate higher energy (and thus a higher bandgap), while longer wavelengths suggest a lower bandgap.\n",
        "\n",
        "PL wavelength mainly helps fine-tune the actual energy level of the bandgap, essential for hitting specific energy targets like ~1.5 eV.\n",
        "\n",
        "PL Wavelength values help identify specific features of the sample's absorption spectrum, such as peak absorption points or cutoff wavelengths.\n",
        "\n",
        "\n",
        "## **PL wavelength increases, the bandgap decreases.**\n"
      ],
      "metadata": {
        "id": "A1SKLbxR2q0r"
      }
    },
    {
      "cell_type": "markdown",
      "source": [
        "# **Function to display intensity and wavelength values**"
      ],
      "metadata": {
        "id": "lIYQ7M8Ce1jw"
      }
    },
    {
      "cell_type": "code",
      "source": [
        "import pandas as pd\n",
        "\n",
        "# Function to display intensity, wavelength, and bandgap values side by side with counts\n",
        "def display_values(data):\n",
        "    # Create a new DataFrame with intensity, wavelength, and bandgap values\n",
        "    combined_data = pd.DataFrame({\n",
        "        'PL Intensity': data['PL intensity'],\n",
        "        'PL Wavelength': data['Plwave'],\n",
        "        'Bandgap': data['Bandgap']  # Assuming your bandgap data is in a column named 'Bandgap'\n",
        "    })\n",
        "\n",
        "    # Count of each value\n",
        "    count_intensity = len(data['PL intensity'])\n",
        "    count_wavelength = len(data['Plwave'])\n",
        "    count_bandgap = len(data['Bandgap'])  # Count for bandgap\n",
        "\n",
        "    print(\"Combined PL Intensity, Wavelength, and Bandgap Values:\")\n",
        "\n",
        "    # Adjust column spacing and print combined data without index\n",
        "    print(combined_data.to_string(index=False, col_space=20))  # Adjusting col_space for spacing\n",
        "\n",
        "      # Calculate average bandgap\n",
        "    average_bandgap = data['Bandgap'].mean()  # Calculate average of the bandgap values\n",
        "\n",
        "    # Print counts\n",
        "    print(f\"\\nCount of PL Intensity Values: {count_intensity}\")\n",
        "    print(f\"Count of PL Wavelength Values: {count_wavelength}\")\n",
        "    print(f\"Average Bandgap Value: {average_bandgap:.3f}\")  # Print average with 3 decimal places\n",
        "\n",
        "\n",
        "# Call the function to display values\n",
        "display_values(data)\n"
      ],
      "metadata": {
        "id": "Gw3CqFnDbrlJ"
      },
      "execution_count": null,
      "outputs": []
    },
    {
      "cell_type": "markdown",
      "source": [
        "# **Visualization Function**"
      ],
      "metadata": {
        "id": "lSjZ-fm0i-mJ"
      }
    },
    {
      "cell_type": "markdown",
      "source": [
        "# *i) Scatter Plot of Actual vs. Predicted Values*"
      ],
      "metadata": {
        "id": "TGFQpXeOjUtK"
      }
    },
    {
      "cell_type": "code",
      "source": [
        "import matplotlib.pyplot as plt\n",
        "\n",
        "# Make predictions for all data\n",
        "y_all_pred = model.predict(X)  # Predictions for all rows in the dataset\n",
        "\n",
        "# Create a combined DataFrame for visualization\n",
        "combined_df = pd.DataFrame({'Actual': y, 'Predicted': y_all_pred})\n",
        "\n",
        "# Create scatter plot\n",
        "plt.figure(figsize=(10, 6))\n",
        "plt.scatter(combined_df['Actual'], combined_df['Predicted'], alpha=0.6, edgecolors='k', label='All Data Points')\n",
        "plt.plot([y.min(), y.max()], [y.min(), y.max()], 'r--', lw=2, label='Perfect Prediction Line')\n",
        "plt.xlabel('Actual Bandgap')\n",
        "plt.ylabel('Predicted Bandgap')\n",
        "plt.title('Actual vs Predicted Bandgap (All Data Points)')\n",
        "plt.legend()\n",
        "plt.grid()\n",
        "plt.show()\n"
      ],
      "metadata": {
        "id": "CufxxbqKZJ8h"
      },
      "execution_count": null,
      "outputs": []
    },
    {
      "cell_type": "markdown",
      "source": [
        "The bandgap is a fundamental property that determines how the material conducts electricity and absorbs light. It indicates the energy difference between the valence and conduction bands.\n",
        "\n",
        "## **Predicted vs. Actual Bandgap Plot:** The scatter plot comparing predicted and actual bandgap values shows how accurately the model can capture the relationships within the data. If points are close to the identity line (where predicted values equal actual values), it implies the model’s reliability.\n",
        "\n",
        "## **Inference:** Consistency along the identity line shows our model is a useful predictor for bandgap values based on PL intensity and wavelength. If there is significant deviation, further data refinement or feature adjustments might be necessary for more precise predictions."
      ],
      "metadata": {
        "id": "HQkOz-Q9xK93"
      }
    },
    {
      "cell_type": "markdown",
      "source": [
        "# *ii) Residual Plot*"
      ],
      "metadata": {
        "id": "qYcNMzRnjdlj"
      }
    },
    {
      "cell_type": "code",
      "source": [
        "# Calculate residuals\n",
        "residuals = y - y_all_pred\n",
        "\n",
        "# Create residual plot\n",
        "plt.figure(figsize=(10, 6))\n",
        "plt.scatter(y_all_pred, residuals, alpha=0.6, edgecolors='k')\n",
        "plt.axhline(0, color='red', linestyle='--', label='Zero Error Line')\n",
        "plt.xlabel('Predicted Bandgap')\n",
        "plt.ylabel('Residuals')\n",
        "plt.title('Residuals vs Predicted Bandgap')\n",
        "plt.legend()\n",
        "plt.grid()\n",
        "plt.show()\n"
      ],
      "metadata": {
        "id": "4bNSBUKrZTSe"
      },
      "execution_count": null,
      "outputs": []
    },
    {
      "cell_type": "markdown",
      "source": [
        "# *iii) Coefficient plot*"
      ],
      "metadata": {
        "id": "5Ow7Sr6Rjpbs"
      }
    },
    {
      "cell_type": "code",
      "source": [
        "# Display model coefficients\n",
        "coefficients = pd.DataFrame({'Feature': X.columns, 'Coefficient': model.coef_})\n",
        "# Plotting the coefficients\n",
        "plt.figure(figsize=(10, 6))\n",
        "plt.barh(coefficients['Feature'], coefficients['Coefficient'], color='skyblue')\n",
        "plt.xlabel('Coefficient Value')\n",
        "plt.title('Feature Coefficients from Linear Regression')\n",
        "plt.grid()\n",
        "plt.show()\n",
        "\n"
      ],
      "metadata": {
        "id": "Ty99DmEBZXFE"
      },
      "execution_count": null,
      "outputs": []
    },
    {
      "cell_type": "markdown",
      "source": [
        "# *iv)  Correlation heatmap*"
      ],
      "metadata": {
        "id": "w2xHaJCxjwBw"
      }
    },
    {
      "cell_type": "code",
      "source": [
        "import seaborn as sns\n",
        "\n",
        "# Create correlation heatmap\n",
        "plt.figure(figsize=(8, 6))\n",
        "sns.heatmap(data.corr(), annot=True, cmap='coolwarm', fmt='.2f')\n",
        "plt.title('Correlation Heatmap')\n",
        "plt.show()\n"
      ],
      "metadata": {
        "id": "jHH8NeM3ZbBE"
      },
      "execution_count": null,
      "outputs": []
    },
    {
      "cell_type": "markdown",
      "source": [
        "# *v) Density Plot Of Actual and Predicted Values*"
      ],
      "metadata": {
        "id": "GXTc_7bJmEeH"
      }
    },
    {
      "cell_type": "code",
      "source": [
        "import seaborn as sns\n",
        "\n",
        "plt.figure(figsize=(10, 6))\n",
        "\n",
        "# Kernel Density Estimate for actual bandgap\n",
        "sns.kdeplot(y, label='Actual Bandgap', color='blue', fill=True, alpha=0.5)\n",
        "\n",
        "# Kernel Density Estimate for predicted bandgap\n",
        "sns.kdeplot(y_all_pred, label='Predicted Bandgap', color='orange', fill=True, alpha=0.5)\n",
        "\n",
        "plt.xlabel('Bandgap')\n",
        "plt.ylabel('Density')\n",
        "plt.title('Distribution of Actual vs Predicted Bandgap (Density Plot)')\n",
        "plt.legend()\n",
        "plt.grid()\n",
        "plt.show()\n"
      ],
      "metadata": {
        "id": "OTo_xVCXlHC3"
      },
      "execution_count": null,
      "outputs": []
    },
    {
      "cell_type": "markdown",
      "source": [
        "# *v) Function to Predict Bandgap for New Ink Parameters*"
      ],
      "metadata": {
        "id": "5Isalm6Uj8LH"
      }
    },
    {
      "cell_type": "code",
      "source": [
        "# Function to predict bandgap for new ink parameters\n",
        "def predict_bandgap(pl_intensity, pl_wave):\n",
        "    new_data = pd.DataFrame({'PL intensity': [pl_intensity], 'Plwave': [pl_wave]})\n",
        "    predicted_bandgap = model.predict(new_data)\n",
        "\n",
        "    # Print input parameters and predicted bandgap\n",
        "    print(f\"Input Parameters:\\nPL Intensity: {pl_intensity}\\nPL Wavelength: {pl_wave}\")\n",
        "    print(f\"Predicted Bandgap: {predicted_bandgap[0]}\")\n",
        "\n",
        "    return predicted_bandgap[0]\n",
        "\n",
        "# Example prediction\n",
        "optimal_pl_intensity = 5000  # Example value\n",
        "optimal_pl_wave = 800.0  # Example value\n",
        "predicted_bandgap = predict_bandgap(optimal_pl_intensity, optimal_pl_wave)\n",
        "\n",
        "# Make predictions for all data\n",
        "y_all_pred = model.predict(X)  # Predictions for all rows in the dataset\n",
        "\n",
        "# Create a scatter plot for actual vs predicted\n",
        "plt.figure(figsize=(10, 6))\n",
        "plt.scatter(y, y_all_pred, alpha=0.6, edgecolors='k', label='All Data Points')\n",
        "\n",
        "# Plot the predicted bandgap for the new input parameters\n",
        "plt.scatter(predicted_bandgap, predicted_bandgap, color='green', s=100, edgecolor='black', label='Predicted Bandgap (New Input)')\n",
        "\n",
        "# Perfect prediction line\n",
        "plt.plot([y.min(), y.max()], [y.min(), y.max()], 'r--', lw=2, label='Perfect Prediction Line')\n",
        "\n",
        "plt.xlabel('Actual Bandgap')\n",
        "plt.ylabel('Predicted Bandgap')\n",
        "plt.title('Actual vs Predicted Bandgap (Including New Prediction)')\n",
        "plt.legend()\n",
        "plt.grid()\n",
        "plt.show()"
      ],
      "metadata": {
        "id": "nJfYphrpYPx2"
      },
      "execution_count": null,
      "outputs": []
    },
    {
      "cell_type": "code",
      "source": [
        "import pickle\n",
        "# Save model to a file\n",
        "with open('trained_model.pkl', 'wb') as file:\n",
        "    pickle.dump(model, file)\n"
      ],
      "metadata": {
        "id": "gAMWCEKIq_pp"
      },
      "execution_count": null,
      "outputs": []
    }
  ]
}